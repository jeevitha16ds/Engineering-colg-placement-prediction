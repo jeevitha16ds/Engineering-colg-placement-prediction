{
  "nbformat": 4,
  "nbformat_minor": 0,
  "metadata": {
    "colab": {
      "name": "Engineering _colg_placement_prediction.ipynb",
      "provenance": []
    },
    "kernelspec": {
      "name": "python3",
      "display_name": "Python 3"
    },
    "language_info": {
      "name": "python"
    }
  },
  "cells": [
    {
      "cell_type": "code",
      "metadata": {
        "id": "OQDqxcyKVyaP"
      },
      "source": [
        "import numpy as np\n",
        "import pandas as pd\n",
        "import matplotlib.pyplot as plt\n",
        "import seaborn as sns\n",
        "%matplotlib inline\n",
        "import warnings\n",
        "warnings.filterwarnings('ignore')\n"
      ],
      "execution_count": 196,
      "outputs": []
    },
    {
      "cell_type": "code",
      "metadata": {
        "id": "lyk-CcOogXAp"
      },
      "source": [
        "data=pd.read_csv('collegePlace.csv')"
      ],
      "execution_count": 197,
      "outputs": []
    },
    {
      "cell_type": "code",
      "metadata": {
        "colab": {
          "base_uri": "https://localhost:8080/",
          "height": 417
        },
        "id": "CA4E_tSsgnUt",
        "outputId": "fab53db1-2131-47bd-c160-2a15b90f543d"
      },
      "source": [
        "data"
      ],
      "execution_count": 198,
      "outputs": [
        {
          "output_type": "execute_result",
          "data": {
            "text/html": [
              "<div>\n",
              "<style scoped>\n",
              "    .dataframe tbody tr th:only-of-type {\n",
              "        vertical-align: middle;\n",
              "    }\n",
              "\n",
              "    .dataframe tbody tr th {\n",
              "        vertical-align: top;\n",
              "    }\n",
              "\n",
              "    .dataframe thead th {\n",
              "        text-align: right;\n",
              "    }\n",
              "</style>\n",
              "<table border=\"1\" class=\"dataframe\">\n",
              "  <thead>\n",
              "    <tr style=\"text-align: right;\">\n",
              "      <th></th>\n",
              "      <th>Age</th>\n",
              "      <th>Gender</th>\n",
              "      <th>Stream</th>\n",
              "      <th>Internships</th>\n",
              "      <th>CGPA</th>\n",
              "      <th>Hostel</th>\n",
              "      <th>HistoryOfBacklogs</th>\n",
              "      <th>PlacedOrNot</th>\n",
              "    </tr>\n",
              "  </thead>\n",
              "  <tbody>\n",
              "    <tr>\n",
              "      <th>0</th>\n",
              "      <td>22</td>\n",
              "      <td>Male</td>\n",
              "      <td>Electronics And Communication</td>\n",
              "      <td>1</td>\n",
              "      <td>8</td>\n",
              "      <td>1</td>\n",
              "      <td>1</td>\n",
              "      <td>1</td>\n",
              "    </tr>\n",
              "    <tr>\n",
              "      <th>1</th>\n",
              "      <td>21</td>\n",
              "      <td>Female</td>\n",
              "      <td>Computer Science</td>\n",
              "      <td>0</td>\n",
              "      <td>7</td>\n",
              "      <td>1</td>\n",
              "      <td>1</td>\n",
              "      <td>1</td>\n",
              "    </tr>\n",
              "    <tr>\n",
              "      <th>2</th>\n",
              "      <td>22</td>\n",
              "      <td>Female</td>\n",
              "      <td>Information Technology</td>\n",
              "      <td>1</td>\n",
              "      <td>6</td>\n",
              "      <td>0</td>\n",
              "      <td>0</td>\n",
              "      <td>1</td>\n",
              "    </tr>\n",
              "    <tr>\n",
              "      <th>3</th>\n",
              "      <td>21</td>\n",
              "      <td>Male</td>\n",
              "      <td>Information Technology</td>\n",
              "      <td>0</td>\n",
              "      <td>8</td>\n",
              "      <td>0</td>\n",
              "      <td>1</td>\n",
              "      <td>1</td>\n",
              "    </tr>\n",
              "    <tr>\n",
              "      <th>4</th>\n",
              "      <td>22</td>\n",
              "      <td>Male</td>\n",
              "      <td>Mechanical</td>\n",
              "      <td>0</td>\n",
              "      <td>8</td>\n",
              "      <td>1</td>\n",
              "      <td>0</td>\n",
              "      <td>1</td>\n",
              "    </tr>\n",
              "    <tr>\n",
              "      <th>...</th>\n",
              "      <td>...</td>\n",
              "      <td>...</td>\n",
              "      <td>...</td>\n",
              "      <td>...</td>\n",
              "      <td>...</td>\n",
              "      <td>...</td>\n",
              "      <td>...</td>\n",
              "      <td>...</td>\n",
              "    </tr>\n",
              "    <tr>\n",
              "      <th>2961</th>\n",
              "      <td>23</td>\n",
              "      <td>Male</td>\n",
              "      <td>Information Technology</td>\n",
              "      <td>0</td>\n",
              "      <td>7</td>\n",
              "      <td>0</td>\n",
              "      <td>0</td>\n",
              "      <td>0</td>\n",
              "    </tr>\n",
              "    <tr>\n",
              "      <th>2962</th>\n",
              "      <td>23</td>\n",
              "      <td>Male</td>\n",
              "      <td>Mechanical</td>\n",
              "      <td>1</td>\n",
              "      <td>7</td>\n",
              "      <td>1</td>\n",
              "      <td>0</td>\n",
              "      <td>0</td>\n",
              "    </tr>\n",
              "    <tr>\n",
              "      <th>2963</th>\n",
              "      <td>22</td>\n",
              "      <td>Male</td>\n",
              "      <td>Information Technology</td>\n",
              "      <td>1</td>\n",
              "      <td>7</td>\n",
              "      <td>0</td>\n",
              "      <td>0</td>\n",
              "      <td>0</td>\n",
              "    </tr>\n",
              "    <tr>\n",
              "      <th>2964</th>\n",
              "      <td>22</td>\n",
              "      <td>Male</td>\n",
              "      <td>Computer Science</td>\n",
              "      <td>1</td>\n",
              "      <td>7</td>\n",
              "      <td>0</td>\n",
              "      <td>0</td>\n",
              "      <td>0</td>\n",
              "    </tr>\n",
              "    <tr>\n",
              "      <th>2965</th>\n",
              "      <td>23</td>\n",
              "      <td>Male</td>\n",
              "      <td>Civil</td>\n",
              "      <td>0</td>\n",
              "      <td>8</td>\n",
              "      <td>0</td>\n",
              "      <td>0</td>\n",
              "      <td>1</td>\n",
              "    </tr>\n",
              "  </tbody>\n",
              "</table>\n",
              "<p>2966 rows × 8 columns</p>\n",
              "</div>"
            ],
            "text/plain": [
              "      Age  Gender  ... HistoryOfBacklogs  PlacedOrNot\n",
              "0      22    Male  ...                 1            1\n",
              "1      21  Female  ...                 1            1\n",
              "2      22  Female  ...                 0            1\n",
              "3      21    Male  ...                 1            1\n",
              "4      22    Male  ...                 0            1\n",
              "...   ...     ...  ...               ...          ...\n",
              "2961   23    Male  ...                 0            0\n",
              "2962   23    Male  ...                 0            0\n",
              "2963   22    Male  ...                 0            0\n",
              "2964   22    Male  ...                 0            0\n",
              "2965   23    Male  ...                 0            1\n",
              "\n",
              "[2966 rows x 8 columns]"
            ]
          },
          "metadata": {},
          "execution_count": 198
        }
      ]
    },
    {
      "cell_type": "code",
      "metadata": {
        "colab": {
          "base_uri": "https://localhost:8080/"
        },
        "id": "rR8QZu5-goEV",
        "outputId": "21dda1d2-476b-4e8b-edff-9ec6047f7b54"
      },
      "source": [
        "data.shape"
      ],
      "execution_count": 199,
      "outputs": [
        {
          "output_type": "execute_result",
          "data": {
            "text/plain": [
              "(2966, 8)"
            ]
          },
          "metadata": {},
          "execution_count": 199
        }
      ]
    },
    {
      "cell_type": "code",
      "metadata": {
        "colab": {
          "base_uri": "https://localhost:8080/"
        },
        "id": "UUCl3Cffhlyb",
        "outputId": "4a3bf453-241e-4909-87e5-490fe43c2207"
      },
      "source": [
        "data.info"
      ],
      "execution_count": 200,
      "outputs": [
        {
          "output_type": "execute_result",
          "data": {
            "text/plain": [
              "<bound method DataFrame.info of       Age  Gender  ... HistoryOfBacklogs  PlacedOrNot\n",
              "0      22    Male  ...                 1            1\n",
              "1      21  Female  ...                 1            1\n",
              "2      22  Female  ...                 0            1\n",
              "3      21    Male  ...                 1            1\n",
              "4      22    Male  ...                 0            1\n",
              "...   ...     ...  ...               ...          ...\n",
              "2961   23    Male  ...                 0            0\n",
              "2962   23    Male  ...                 0            0\n",
              "2963   22    Male  ...                 0            0\n",
              "2964   22    Male  ...                 0            0\n",
              "2965   23    Male  ...                 0            1\n",
              "\n",
              "[2966 rows x 8 columns]>"
            ]
          },
          "metadata": {},
          "execution_count": 200
        }
      ]
    },
    {
      "cell_type": "code",
      "metadata": {
        "colab": {
          "base_uri": "https://localhost:8080/"
        },
        "id": "0vBEdqyhhmoj",
        "outputId": "5ff4eae4-ec00-4ee8-afb1-00a6aa6948eb"
      },
      "source": [
        "missing=data.isnull().sum().sort_values(ascending=False)\n",
        "missing[missing>0]\n"
      ],
      "execution_count": 201,
      "outputs": [
        {
          "output_type": "execute_result",
          "data": {
            "text/plain": [
              "Series([], dtype: int64)"
            ]
          },
          "metadata": {},
          "execution_count": 201
        }
      ]
    },
    {
      "cell_type": "code",
      "metadata": {
        "colab": {
          "base_uri": "https://localhost:8080/"
        },
        "id": "zXthclrVh1Cm",
        "outputId": "59752741-80fb-42cc-fec4-d52c70ff3ad2"
      },
      "source": [
        "cat=data.select_dtypes(include=\"object\")\n",
        "cat.columns"
      ],
      "execution_count": 202,
      "outputs": [
        {
          "output_type": "execute_result",
          "data": {
            "text/plain": [
              "Index(['Gender', 'Stream'], dtype='object')"
            ]
          },
          "metadata": {},
          "execution_count": 202
        }
      ]
    },
    {
      "cell_type": "code",
      "metadata": {
        "colab": {
          "base_uri": "https://localhost:8080/"
        },
        "id": "Fmr877Y1h5rZ",
        "outputId": "51e89e79-35f7-46a2-f6c8-9e2006dbc55c"
      },
      "source": [
        "num=data.select_dtypes(include=[\"int64\",\"float64\"])\n",
        "num.columns"
      ],
      "execution_count": 203,
      "outputs": [
        {
          "output_type": "execute_result",
          "data": {
            "text/plain": [
              "Index(['Age', 'Internships', 'CGPA', 'Hostel', 'HistoryOfBacklogs',\n",
              "       'PlacedOrNot'],\n",
              "      dtype='object')"
            ]
          },
          "metadata": {},
          "execution_count": 203
        }
      ]
    },
    {
      "cell_type": "code",
      "metadata": {
        "colab": {
          "base_uri": "https://localhost:8080/",
          "height": 458
        },
        "id": "YQJ38vR0h-jq",
        "outputId": "543b4772-b1b2-469f-b34f-d81e462c0720"
      },
      "source": [
        "cat=data.select_dtypes(include=\"object\")\n",
        "L=[2,2,1]\n",
        "a,b,c=L\n",
        "fig=plt.figure(figsize=(15,10))\n",
        "for x in cat:\n",
        "  plt.subplot(a,b,c)\n",
        "  sns.countplot(data[x])\n",
        "  x=plt.xticks(rotation=90)\n",
        "\n",
        "  \n",
        "  c=c+1\n"
      ],
      "execution_count": 210,
      "outputs": [
        {
          "output_type": "display_data",
          "data": {
            "image/png": "[encoded data removed]",
            "text/plain": [
              "<Figure size 1080x720 with 2 Axes>"
            ]
          },
          "metadata": {
            "needs_background": "light"
          }
        }
      ]
    },
    {
      "cell_type": "code",
      "metadata": {
        "colab": {
          "base_uri": "https://localhost:8080/",
          "height": 776
        },
        "id": "ia2VrptliLYG",
        "outputId": "48e18c20-c68f-4d36-a7f7-a9f1de0e7014"
      },
      "source": [
        "num=data.select_dtypes(include=[\"int64\",\"float64\"])\n",
        "L=[6,2,1]\n",
        "a,b,c=L\n",
        "fig=plt.figure(figsize=(10,20))\n",
        "for x in num:\n",
        "  plt.subplot(a,b,c)\n",
        "  sns.distplot(data[x],color=\"green\")\n",
        "  \n",
        "  c=c+1"
      ],
      "execution_count": 236,
      "outputs": [
        {
          "output_type": "display_data",
          "data": {
            "image/png": "[encoded data removed]",
            "text/plain": [
              "<Figure size 720x1440 with 8 Axes>"
            ]
          },
          "metadata": {
            "needs_background": "light"
          }
        }
      ]
    },
    {
      "cell_type": "code",
      "metadata": {
        "colab": {
          "base_uri": "https://localhost:8080/",
          "height": 590
        },
        "id": "w8xINWMUiaDQ",
        "outputId": "aee3aa7a-10dd-402b-ee11-c66b681f0eae"
      },
      "source": [
        "num=data.select_dtypes(include=[\"int64\",\"float64\"])\n",
        "L=[6,2,1]\n",
        "a,b,c=L\n",
        "fig=plt.figure(figsize=(15,20))\n",
        "for x in num:\n",
        "  plt.subplot(a,b,c)\n",
        "  sns.boxplot(data[x],color=\"gold\")\n",
        "  \n",
        "  c=c+1"
      ],
      "execution_count": 216,
      "outputs": [
        {
          "output_type": "display_data",
          "data": {
            "image/png": "[encoded data removed]",
            "text/plain": [
              "<Figure size 1080x1440 with 6 Axes>"
            ]
          },
          "metadata": {
            "needs_background": "light"
          }
        }
      ]
    },
    {
      "cell_type": "code",
      "metadata": {
        "colab": {
          "base_uri": "https://localhost:8080/",
          "height": 590
        },
        "id": "3XbC-f07ihPR",
        "outputId": "cdb400e1-dbb0-4885-ba58-d32db1b4bf8a"
      },
      "source": [
        "num=data.select_dtypes(include=[\"int64\",\"float64\"])\n",
        "L=[6,2,1]\n",
        "a,b,c=L\n",
        "fig=plt.figure(figsize=(15,20))\n",
        "for x in num:\n",
        "  plt.subplot(a,b,c)\n",
        "  sns.scatterplot(data[x],data['CGPA'])\n",
        "  \n",
        "  c=c+1"
      ],
      "execution_count": 219,
      "outputs": [
        {
          "output_type": "display_data",
          "data": {
            "image/png": "[encoded data removed]",
            "text/plain": [
              "<Figure size 1080x1440 with 6 Axes>"
            ]
          },
          "metadata": {
            "needs_background": "light"
          }
        }
      ]
    },
    {
      "cell_type": "code",
      "metadata": {
        "colab": {
          "base_uri": "https://localhost:8080/",
          "height": 234
        },
        "id": "dzQWYxIqjK87",
        "outputId": "633c5a68-974d-4042-8d10-430ae0178c36"
      },
      "source": [
        "data.describe().T"
      ],
      "execution_count": 220,
      "outputs": [
        {
          "output_type": "execute_result",
          "data": {
            "text/html": [
              "<div>\n",
              "<style scoped>\n",
              "    .dataframe tbody tr th:only-of-type {\n",
              "        vertical-align: middle;\n",
              "    }\n",
              "\n",
              "    .dataframe tbody tr th {\n",
              "        vertical-align: top;\n",
              "    }\n",
              "\n",
              "    .dataframe thead th {\n",
              "        text-align: right;\n",
              "    }\n",
              "</style>\n",
              "<table border=\"1\" class=\"dataframe\">\n",
              "  <thead>\n",
              "    <tr style=\"text-align: right;\">\n",
              "      <th></th>\n",
              "      <th>count</th>\n",
              "      <th>mean</th>\n",
              "      <th>std</th>\n",
              "      <th>min</th>\n",
              "      <th>25%</th>\n",
              "      <th>50%</th>\n",
              "      <th>75%</th>\n",
              "      <th>max</th>\n",
              "    </tr>\n",
              "  </thead>\n",
              "  <tbody>\n",
              "    <tr>\n",
              "      <th>Age</th>\n",
              "      <td>2966.0</td>\n",
              "      <td>21.485840</td>\n",
              "      <td>1.324933</td>\n",
              "      <td>19.0</td>\n",
              "      <td>21.0</td>\n",
              "      <td>21.0</td>\n",
              "      <td>22.0</td>\n",
              "      <td>30.0</td>\n",
              "    </tr>\n",
              "    <tr>\n",
              "      <th>Internships</th>\n",
              "      <td>2966.0</td>\n",
              "      <td>0.703641</td>\n",
              "      <td>0.740197</td>\n",
              "      <td>0.0</td>\n",
              "      <td>0.0</td>\n",
              "      <td>1.0</td>\n",
              "      <td>1.0</td>\n",
              "      <td>3.0</td>\n",
              "    </tr>\n",
              "    <tr>\n",
              "      <th>CGPA</th>\n",
              "      <td>2966.0</td>\n",
              "      <td>7.073837</td>\n",
              "      <td>0.967748</td>\n",
              "      <td>5.0</td>\n",
              "      <td>6.0</td>\n",
              "      <td>7.0</td>\n",
              "      <td>8.0</td>\n",
              "      <td>9.0</td>\n",
              "    </tr>\n",
              "    <tr>\n",
              "      <th>Hostel</th>\n",
              "      <td>2966.0</td>\n",
              "      <td>0.269049</td>\n",
              "      <td>0.443540</td>\n",
              "      <td>0.0</td>\n",
              "      <td>0.0</td>\n",
              "      <td>0.0</td>\n",
              "      <td>1.0</td>\n",
              "      <td>1.0</td>\n",
              "    </tr>\n",
              "    <tr>\n",
              "      <th>HistoryOfBacklogs</th>\n",
              "      <td>2966.0</td>\n",
              "      <td>0.192178</td>\n",
              "      <td>0.394079</td>\n",
              "      <td>0.0</td>\n",
              "      <td>0.0</td>\n",
              "      <td>0.0</td>\n",
              "      <td>0.0</td>\n",
              "      <td>1.0</td>\n",
              "    </tr>\n",
              "    <tr>\n",
              "      <th>PlacedOrNot</th>\n",
              "      <td>2966.0</td>\n",
              "      <td>0.552596</td>\n",
              "      <td>0.497310</td>\n",
              "      <td>0.0</td>\n",
              "      <td>0.0</td>\n",
              "      <td>1.0</td>\n",
              "      <td>1.0</td>\n",
              "      <td>1.0</td>\n",
              "    </tr>\n",
              "  </tbody>\n",
              "</table>\n",
              "</div>"
            ],
            "text/plain": [
              "                    count       mean       std   min   25%   50%   75%   max\n",
              "Age                2966.0  21.485840  1.324933  19.0  21.0  21.0  22.0  30.0\n",
              "Internships        2966.0   0.703641  0.740197   0.0   0.0   1.0   1.0   3.0\n",
              "CGPA               2966.0   7.073837  0.967748   5.0   6.0   7.0   8.0   9.0\n",
              "Hostel             2966.0   0.269049  0.443540   0.0   0.0   0.0   1.0   1.0\n",
              "HistoryOfBacklogs  2966.0   0.192178  0.394079   0.0   0.0   0.0   0.0   1.0\n",
              "PlacedOrNot        2966.0   0.552596  0.497310   0.0   0.0   1.0   1.0   1.0"
            ]
          },
          "metadata": {},
          "execution_count": 220
        }
      ]
    },
    {
      "cell_type": "code",
      "metadata": {
        "colab": {
          "base_uri": "https://localhost:8080/",
          "height": 422
        },
        "id": "u9RUF7qujMnL",
        "outputId": "b8b1f7b7-6c9f-4fda-8ba3-760b879a8b92"
      },
      "source": [
        "# plotting Heat map\n",
        "corr=data.corr()\n",
        "plt.subplots(figsize=(5,5))\n",
        "sns.heatmap(corr ,cmap=\"YlGnBu\",annot=False)"
      ],
      "execution_count": 221,
      "outputs": [
        {
          "output_type": "execute_result",
          "data": {
            "text/plain": [
              "<matplotlib.axes._subplots.AxesSubplot at 0x7fa4c0c36710>"
            ]
          },
          "metadata": {},
          "execution_count": 221
        },
        {
          "output_type": "display_data",
          "data": {
            "image/png": "[encoded data removed]",
            "text/plain": [
              "<Figure size 360x360 with 2 Axes>"
            ]
          },
          "metadata": {
            "needs_background": "light"
          }
        }
      ]
    },
    {
      "cell_type": "code",
      "metadata": {
        "id": "ZyYQ730Ll137"
      },
      "source": [
        "from sklearn.preprocessing import LabelEncoder\n",
        "label=LabelEncoder()\n",
        "cat_data=data.select_dtypes(include='object')\n",
        "for x in cat_data:\n",
        "  data[x]=label.fit_transform(data[x].astype(str))"
      ],
      "execution_count": 222,
      "outputs": []
    },
    {
      "cell_type": "code",
      "metadata": {
        "id": "ODTcKwAml9AJ",
        "colab": {
          "base_uri": "https://localhost:8080/",
          "height": 417
        },
        "outputId": "2e1832fb-2744-44f9-e9c8-497dc6567d69"
      },
      "source": [
        "data"
      ],
      "execution_count": 223,
      "outputs": [
        {
          "output_type": "execute_result",
          "data": {
            "text/html": [
              "<div>\n",
              "<style scoped>\n",
              "    .dataframe tbody tr th:only-of-type {\n",
              "        vertical-align: middle;\n",
              "    }\n",
              "\n",
              "    .dataframe tbody tr th {\n",
              "        vertical-align: top;\n",
              "    }\n",
              "\n",
              "    .dataframe thead th {\n",
              "        text-align: right;\n",
              "    }\n",
              "</style>\n",
              "<table border=\"1\" class=\"dataframe\">\n",
              "  <thead>\n",
              "    <tr style=\"text-align: right;\">\n",
              "      <th></th>\n",
              "      <th>Age</th>\n",
              "      <th>Gender</th>\n",
              "      <th>Stream</th>\n",
              "      <th>Internships</th>\n",
              "      <th>CGPA</th>\n",
              "      <th>Hostel</th>\n",
              "      <th>HistoryOfBacklogs</th>\n",
              "      <th>PlacedOrNot</th>\n",
              "    </tr>\n",
              "  </thead>\n",
              "  <tbody>\n",
              "    <tr>\n",
              "      <th>0</th>\n",
              "      <td>22</td>\n",
              "      <td>1</td>\n",
              "      <td>3</td>\n",
              "      <td>1</td>\n",
              "      <td>8</td>\n",
              "      <td>1</td>\n",
              "      <td>1</td>\n",
              "      <td>1</td>\n",
              "    </tr>\n",
              "    <tr>\n",
              "      <th>1</th>\n",
              "      <td>21</td>\n",
              "      <td>0</td>\n",
              "      <td>1</td>\n",
              "      <td>0</td>\n",
              "      <td>7</td>\n",
              "      <td>1</td>\n",
              "      <td>1</td>\n",
              "      <td>1</td>\n",
              "    </tr>\n",
              "    <tr>\n",
              "      <th>2</th>\n",
              "      <td>22</td>\n",
              "      <td>0</td>\n",
              "      <td>4</td>\n",
              "      <td>1</td>\n",
              "      <td>6</td>\n",
              "      <td>0</td>\n",
              "      <td>0</td>\n",
              "      <td>1</td>\n",
              "    </tr>\n",
              "    <tr>\n",
              "      <th>3</th>\n",
              "      <td>21</td>\n",
              "      <td>1</td>\n",
              "      <td>4</td>\n",
              "      <td>0</td>\n",
              "      <td>8</td>\n",
              "      <td>0</td>\n",
              "      <td>1</td>\n",
              "      <td>1</td>\n",
              "    </tr>\n",
              "    <tr>\n",
              "      <th>4</th>\n",
              "      <td>22</td>\n",
              "      <td>1</td>\n",
              "      <td>5</td>\n",
              "      <td>0</td>\n",
              "      <td>8</td>\n",
              "      <td>1</td>\n",
              "      <td>0</td>\n",
              "      <td>1</td>\n",
              "    </tr>\n",
              "    <tr>\n",
              "      <th>...</th>\n",
              "      <td>...</td>\n",
              "      <td>...</td>\n",
              "      <td>...</td>\n",
              "      <td>...</td>\n",
              "      <td>...</td>\n",
              "      <td>...</td>\n",
              "      <td>...</td>\n",
              "      <td>...</td>\n",
              "    </tr>\n",
              "    <tr>\n",
              "      <th>2961</th>\n",
              "      <td>23</td>\n",
              "      <td>1</td>\n",
              "      <td>4</td>\n",
              "      <td>0</td>\n",
              "      <td>7</td>\n",
              "      <td>0</td>\n",
              "      <td>0</td>\n",
              "      <td>0</td>\n",
              "    </tr>\n",
              "    <tr>\n",
              "      <th>2962</th>\n",
              "      <td>23</td>\n",
              "      <td>1</td>\n",
              "      <td>5</td>\n",
              "      <td>1</td>\n",
              "      <td>7</td>\n",
              "      <td>1</td>\n",
              "      <td>0</td>\n",
              "      <td>0</td>\n",
              "    </tr>\n",
              "    <tr>\n",
              "      <th>2963</th>\n",
              "      <td>22</td>\n",
              "      <td>1</td>\n",
              "      <td>4</td>\n",
              "      <td>1</td>\n",
              "      <td>7</td>\n",
              "      <td>0</td>\n",
              "      <td>0</td>\n",
              "      <td>0</td>\n",
              "    </tr>\n",
              "    <tr>\n",
              "      <th>2964</th>\n",
              "      <td>22</td>\n",
              "      <td>1</td>\n",
              "      <td>1</td>\n",
              "      <td>1</td>\n",
              "      <td>7</td>\n",
              "      <td>0</td>\n",
              "      <td>0</td>\n",
              "      <td>0</td>\n",
              "    </tr>\n",
              "    <tr>\n",
              "      <th>2965</th>\n",
              "      <td>23</td>\n",
              "      <td>1</td>\n",
              "      <td>0</td>\n",
              "      <td>0</td>\n",
              "      <td>8</td>\n",
              "      <td>0</td>\n",
              "      <td>0</td>\n",
              "      <td>1</td>\n",
              "    </tr>\n",
              "  </tbody>\n",
              "</table>\n",
              "<p>2966 rows × 8 columns</p>\n",
              "</div>"
            ],
            "text/plain": [
              "      Age  Gender  Stream  ...  Hostel  HistoryOfBacklogs  PlacedOrNot\n",
              "0      22       1       3  ...       1                  1            1\n",
              "1      21       0       1  ...       1                  1            1\n",
              "2      22       0       4  ...       0                  0            1\n",
              "3      21       1       4  ...       0                  1            1\n",
              "4      22       1       5  ...       1                  0            1\n",
              "...   ...     ...     ...  ...     ...                ...          ...\n",
              "2961   23       1       4  ...       0                  0            0\n",
              "2962   23       1       5  ...       1                  0            0\n",
              "2963   22       1       4  ...       0                  0            0\n",
              "2964   22       1       1  ...       0                  0            0\n",
              "2965   23       1       0  ...       0                  0            1\n",
              "\n",
              "[2966 rows x 8 columns]"
            ]
          },
          "metadata": {},
          "execution_count": 223
        }
      ]
    },
    {
      "cell_type": "code",
      "metadata": {
        "id": "lYmOca_8rW_r"
      },
      "source": [
        "x=data.drop(['PlacedOrNot'],axis=1)\n",
        "y=data[['PlacedOrNot']]"
      ],
      "execution_count": 225,
      "outputs": []
    },
    {
      "cell_type": "code",
      "metadata": {
        "colab": {
          "base_uri": "https://localhost:8080/"
        },
        "id": "NGGVNruKsDgH",
        "outputId": "392bcf9e-e59b-4c6b-9a35-1d1a27a86d86"
      },
      "source": [
        "#import model to test the model\n",
        "from sklearn.model_selection import train_test_split\n",
        "x_train, x_test, y_train, y_test = train_test_split(x, y, test_size=0.33, random_state=42)\n",
        "x_train.shape, x_test.shape, y_test.shape,y_train.shape"
      ],
      "execution_count": 226,
      "outputs": [
        {
          "output_type": "execute_result",
          "data": {
            "text/plain": [
              "((1987, 7), (979, 7), (979, 1), (1987, 1))"
            ]
          },
          "metadata": {},
          "execution_count": 226
        }
      ]
    },
    {
      "cell_type": "code",
      "metadata": {
        "colab": {
          "base_uri": "https://localhost:8080/"
        },
        "id": "FtgrMuQ2sgQD",
        "outputId": "ab708248-47f4-4fa4-f5c0-0faa0e94db92"
      },
      "source": [
        "from xgboost import XGBClassifier\n",
        "model_xgb=XGBClassifier()\n",
        "model_xgb.fit(x_train,y_train)\n",
        "xgb_predict=model_xgb.predict(x_test)\n",
        "from sklearn.metrics import accuracy_score ,recall_score, precision_score,f1_score,confusion_matrix,classification_report\n",
        "print('accuracy score :\\n',accuracy_score(y_true=y_test,y_pred=xgb_predict))\n",
        "print(classification_report(y_test,xgb_predict))\n",
        "confusion_matrix(y_test,xgb_predict)"
      ],
      "execution_count": 227,
      "outputs": [
        {
          "output_type": "stream",
          "name": "stdout",
          "text": [
            "accuracy score :\n",
            " 0.8784473953013279\n",
            "              precision    recall  f1-score   support\n",
            "\n",
            "           0       0.81      0.95      0.87       432\n",
            "           1       0.96      0.82      0.88       547\n",
            "\n",
            "    accuracy                           0.88       979\n",
            "   macro avg       0.88      0.89      0.88       979\n",
            "weighted avg       0.89      0.88      0.88       979\n",
            "\n"
          ]
        },
        {
          "output_type": "execute_result",
          "data": {
            "text/plain": [
              "array([[412,  20],\n",
              "       [ 99, 448]])"
            ]
          },
          "metadata": {},
          "execution_count": 227
        }
      ]
    },
    {
      "cell_type": "code",
      "metadata": {
        "colab": {
          "base_uri": "https://localhost:8080/"
        },
        "id": "85f9jLQ9suEB",
        "outputId": "88d981d6-b6bb-4937-e97a-148eba751e00"
      },
      "source": [
        "from sklearn.ensemble import RandomForestClassifier\n",
        "model_RF=RandomForestClassifier()\n",
        "model_RF.fit(x_train,y_train)\n",
        "RF_predict=model_RF.predict(x_test)\n",
        "from sklearn.metrics import accuracy_score ,recall_score, precision_score,f1_score,confusion_matrix,classification_report\n",
        "print('accuracy score :\\n',accuracy_score(y_true=y_test,y_pred=RF_predict))\n",
        "print(classification_report(y_test,RF_predict))\n",
        "confusion_matrix(y_test,RF_predict)"
      ],
      "execution_count": 228,
      "outputs": [
        {
          "output_type": "stream",
          "name": "stdout",
          "text": [
            "accuracy score :\n",
            " 0.8764044943820225\n",
            "              precision    recall  f1-score   support\n",
            "\n",
            "           0       0.82      0.92      0.87       432\n",
            "           1       0.93      0.84      0.88       547\n",
            "\n",
            "    accuracy                           0.88       979\n",
            "   macro avg       0.88      0.88      0.88       979\n",
            "weighted avg       0.88      0.88      0.88       979\n",
            "\n"
          ]
        },
        {
          "output_type": "execute_result",
          "data": {
            "text/plain": [
              "array([[399,  33],\n",
              "       [ 88, 459]])"
            ]
          },
          "metadata": {},
          "execution_count": 228
        }
      ]
    },
    {
      "cell_type": "code",
      "metadata": {
        "colab": {
          "base_uri": "https://localhost:8080/"
        },
        "id": "fu1zSy4NsyHW",
        "outputId": "3040446b-7030-457b-ecec-d8f0cab292a5"
      },
      "source": [
        "import lightgbm as lgb\n",
        "model_lgb=lgb.LGBMClassifier()\n",
        "model_lgb.fit(x_train,y_train)\n",
        "lgb_predict=model_lgb.predict(x_test)\n",
        "from sklearn.metrics import accuracy_score ,confusion_matrix \n",
        "from sklearn.metrics import accuracy_score ,recall_score, precision_score,f1_score,confusion_matrix,classification_report\n",
        "print('accuracy score :\\n',accuracy_score(y_true=y_test,y_pred=lgb_predict))\n",
        "print(classification_report(y_test,lgb_predict))\n",
        "confusion_matrix(y_test,lgb_predict)"
      ],
      "execution_count": 229,
      "outputs": [
        {
          "output_type": "stream",
          "name": "stdout",
          "text": [
            "accuracy score :\n",
            " 0.8855975485188968\n",
            "              precision    recall  f1-score   support\n",
            "\n",
            "           0       0.82      0.95      0.88       432\n",
            "           1       0.95      0.84      0.89       547\n",
            "\n",
            "    accuracy                           0.89       979\n",
            "   macro avg       0.89      0.89      0.89       979\n",
            "weighted avg       0.89      0.89      0.89       979\n",
            "\n"
          ]
        },
        {
          "output_type": "execute_result",
          "data": {
            "text/plain": [
              "array([[410,  22],\n",
              "       [ 90, 457]])"
            ]
          },
          "metadata": {},
          "execution_count": 229
        }
      ]
    },
    {
      "cell_type": "code",
      "metadata": {
        "colab": {
          "base_uri": "https://localhost:8080/"
        },
        "id": "6_tOMmE4s2SW",
        "outputId": "6629b9f8-4fb3-4c2a-99d4-77ee99f2e814"
      },
      "source": [
        "from sklearn.tree import DecisionTreeClassifier\n",
        "model_DT= DecisionTreeClassifier()\n",
        "model_DT.fit(x_train,y_train)\n",
        "DT_predict=model_DT.predict(x_test)\n",
        "from sklearn.metrics import accuracy_score ,recall_score, precision_score,f1_score,confusion_matrix,classification_report\n",
        "print('accuracy score :\\n',accuracy_score(y_true=y_test,y_pred=DT_predict))\n",
        "print(classification_report(y_test,DT_predict))\n",
        "confusion_matrix(y_test,DT_predict)\n"
      ],
      "execution_count": 230,
      "outputs": [
        {
          "output_type": "stream",
          "name": "stdout",
          "text": [
            "accuracy score :\n",
            " 0.8723186925434117\n",
            "              precision    recall  f1-score   support\n",
            "\n",
            "           0       0.82      0.92      0.86       432\n",
            "           1       0.93      0.84      0.88       547\n",
            "\n",
            "    accuracy                           0.87       979\n",
            "   macro avg       0.87      0.88      0.87       979\n",
            "weighted avg       0.88      0.87      0.87       979\n",
            "\n"
          ]
        },
        {
          "output_type": "execute_result",
          "data": {
            "text/plain": [
              "array([[397,  35],\n",
              "       [ 90, 457]])"
            ]
          },
          "metadata": {},
          "execution_count": 230
        }
      ]
    },
    {
      "cell_type": "code",
      "metadata": {
        "colab": {
          "base_uri": "https://localhost:8080/"
        },
        "id": "gwFO-CIys5VY",
        "outputId": "f0c738a7-03d6-43e9-cc7e-8980956e3bf4"
      },
      "source": [
        "from sklearn.neighbors import KNeighborsClassifier\n",
        "model_KNN = KNeighborsClassifier(algorithm='brute', leaf_size=30, metric='minkowski',\n",
        "                     metric_params=None, n_jobs=1, n_neighbors=2, p=1,\n",
        "                     weights='uniform')\n",
        "model_KNN.fit(x_train,y_train)\n",
        "KNN_predict=model_KNN.predict(x_test)\n",
        "from sklearn.metrics import accuracy_score ,recall_score, precision_score,f1_score,confusion_matrix,classification_report\n",
        "print('accuracy score :\\n',accuracy_score(y_true=y_test,y_pred=KNN_predict))\n",
        "print(classification_report(y_test,KNN_predict))\n",
        "confusion_matrix(y_test,KNN_predict)\n"
      ],
      "execution_count": 231,
      "outputs": [
        {
          "output_type": "stream",
          "name": "stdout",
          "text": [
            "accuracy score :\n",
            " 0.8386108273748724\n",
            "              precision    recall  f1-score   support\n",
            "\n",
            "           0       0.75      0.96      0.84       432\n",
            "           1       0.96      0.74      0.84       547\n",
            "\n",
            "    accuracy                           0.84       979\n",
            "   macro avg       0.85      0.85      0.84       979\n",
            "weighted avg       0.87      0.84      0.84       979\n",
            "\n"
          ]
        },
        {
          "output_type": "execute_result",
          "data": {
            "text/plain": [
              "array([[416,  16],\n",
              "       [142, 405]])"
            ]
          },
          "metadata": {},
          "execution_count": 231
        }
      ]
    },
    {
      "cell_type": "code",
      "metadata": {
        "colab": {
          "base_uri": "https://localhost:8080/"
        },
        "id": "-b8SwhkxtAaU",
        "outputId": "b3074e84-43cb-43a9-cee3-9ae5460208ef"
      },
      "source": [
        "from sklearn.ensemble import  AdaBoostClassifier\n",
        "model_ab=AdaBoostClassifier()\n",
        "model_ab.fit(x_train,y_train)\n",
        "ab_predict=model_ab.predict(x_test)\n",
        "from sklearn.metrics import accuracy_score ,recall_score, precision_score,f1_score,confusion_matrix,classification_report\n",
        "print('accuracy score :\\n',accuracy_score(y_true=y_test,y_pred=ab_predict))\n",
        "print(classification_report(y_test,ab_predict))\n",
        "confusion_matrix(y_test,ab_predict)"
      ],
      "execution_count": 232,
      "outputs": [
        {
          "output_type": "stream",
          "name": "stdout",
          "text": [
            "accuracy score :\n",
            " 0.8733401430030644\n",
            "              precision    recall  f1-score   support\n",
            "\n",
            "           0       0.80      0.95      0.87       432\n",
            "           1       0.95      0.81      0.88       547\n",
            "\n",
            "    accuracy                           0.87       979\n",
            "   macro avg       0.88      0.88      0.87       979\n",
            "weighted avg       0.89      0.87      0.87       979\n",
            "\n"
          ]
        },
        {
          "output_type": "execute_result",
          "data": {
            "text/plain": [
              "array([[410,  22],\n",
              "       [102, 445]])"
            ]
          },
          "metadata": {},
          "execution_count": 232
        }
      ]
    },
    {
      "cell_type": "code",
      "metadata": {
        "colab": {
          "base_uri": "https://localhost:8080/"
        },
        "id": "tQwQ6F--BEPw",
        "outputId": "34c1854d-a8ec-4416-f066-1ce813039619"
      },
      "source": [
        "from sklearn.ensemble import  GradientBoostingClassifier\n",
        "model_gb=GradientBoostingClassifier()\n",
        "model_gb.fit(x_train,y_train)\n",
        "gb_predict=model_gb.predict(x_test)\n",
        "from sklearn.metrics import accuracy_score ,recall_score, precision_score,f1_score,confusion_matrix,classification_report\n",
        "print('accuracy score :\\n',accuracy_score(y_true=y_test,y_pred=gb_predict))\n",
        "print(classification_report(y_test,gb_predict))\n",
        "confusion_matrix(y_test,gb_predict)"
      ],
      "execution_count": 233,
      "outputs": [
        {
          "output_type": "stream",
          "name": "stdout",
          "text": [
            "accuracy score :\n",
            " 0.8804902962206334\n",
            "              precision    recall  f1-score   support\n",
            "\n",
            "           0       0.81      0.96      0.88       432\n",
            "           1       0.96      0.82      0.88       547\n",
            "\n",
            "    accuracy                           0.88       979\n",
            "   macro avg       0.88      0.89      0.88       979\n",
            "weighted avg       0.89      0.88      0.88       979\n",
            "\n"
          ]
        },
        {
          "output_type": "execute_result",
          "data": {
            "text/plain": [
              "array([[415,  17],\n",
              "       [100, 447]])"
            ]
          },
          "metadata": {},
          "execution_count": 233
        }
      ]
    },
    {
      "cell_type": "code",
      "metadata": {
        "colab": {
          "base_uri": "https://localhost:8080/"
        },
        "id": "jWCAo6h4BHOv",
        "outputId": "238a8dae-4f65-468b-9654-b87614119b0f"
      },
      "source": [
        "from sklearn.naive_bayes import GaussianNB\n",
        "model=GaussianNB()\n",
        "model.fit(x_train,y_train)\n",
        "NB_predict=model.predict(x_test)\n",
        "from sklearn.metrics import accuracy_score ,recall_score, precision_score,f1_score,confusion_matrix,classification_report\n",
        "print('accuracy score :\\n',accuracy_score(y_true=y_test,y_pred=NB_predict))\n",
        "print(classification_report(y_test,xgb_predict))\n",
        "confusion_matrix(y_test,NB_predict)"
      ],
      "execution_count": 234,
      "outputs": [
        {
          "output_type": "stream",
          "name": "stdout",
          "text": [
            "accuracy score :\n",
            " 0.7987742594484167\n",
            "              precision    recall  f1-score   support\n",
            "\n",
            "           0       0.81      0.95      0.87       432\n",
            "           1       0.96      0.82      0.88       547\n",
            "\n",
            "    accuracy                           0.88       979\n",
            "   macro avg       0.88      0.89      0.88       979\n",
            "weighted avg       0.89      0.88      0.88       979\n",
            "\n"
          ]
        },
        {
          "output_type": "execute_result",
          "data": {
            "text/plain": [
              "array([[364,  68],\n",
              "       [129, 418]])"
            ]
          },
          "metadata": {},
          "execution_count": 234
        }
      ]
    },
    {
      "cell_type": "code",
      "metadata": {
        "colab": {
          "base_uri": "https://localhost:8080/"
        },
        "id": "izoocEhPBOjc",
        "outputId": "fc25a6d7-4e00-489a-e2e5-90a1e68da0b3"
      },
      "source": [
        "from sklearn import svm\n",
        "model_svm = svm.SVC()\n",
        "model_svm.fit(x_train, y_train)\n",
        "svm_predict=model_svm.predict(x_test)\n",
        "from sklearn.metrics import accuracy_score ,recall_score, precision_score,f1_score,confusion_matrix,classification_report\n",
        "print('accuracy score :\\n',accuracy_score(y_true=y_test,y_pred=svm_predict))\n",
        "print(classification_report(y_test,svm_predict))\n",
        "confusion_matrix(y_test,svm_predict)"
      ],
      "execution_count": 235,
      "outputs": [
        {
          "output_type": "stream",
          "name": "stdout",
          "text": [
            "accuracy score :\n",
            " 0.7732379979570991\n",
            "              precision    recall  f1-score   support\n",
            "\n",
            "           0       0.71      0.81      0.76       432\n",
            "           1       0.84      0.74      0.78       547\n",
            "\n",
            "    accuracy                           0.77       979\n",
            "   macro avg       0.77      0.78      0.77       979\n",
            "weighted avg       0.78      0.77      0.77       979\n",
            "\n"
          ]
        },
        {
          "output_type": "execute_result",
          "data": {
            "text/plain": [
              "array([[352,  80],\n",
              "       [142, 405]])"
            ]
          },
          "metadata": {},
          "execution_count": 235
        }
      ]
    }
  ]
}